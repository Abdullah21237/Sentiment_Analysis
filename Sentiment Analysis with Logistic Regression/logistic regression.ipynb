{
 "cells": [
  {
   "cell_type": "code",
   "execution_count": null,
   "id": "9b713bab",
   "metadata": {},
   "outputs": [],
   "source": [
    "import pandas as pd\n",
    "import re\n",
    "from sklearn.feature_extraction.text import TfidfVectorizer\n",
    "from sklearn.linear_model import LogisticRegression\n",
    "from sklearn.preprocessing import LabelEncoder\n",
    "from sklearn.model_selection import train_test_split\n"
   ]
  },
  {
   "cell_type": "code",
   "execution_count": null,
   "id": "a9046711",
   "metadata": {},
   "outputs": [],
   "source": [
    "# Load your data into a DataFrame\n",
    "# Try different encodings\n",
    "encodings = ['utf-8', 'latin-1', 'iso-8859-1', 'cp1252']\n",
    "\n",
    "for encoding in encodings:\n",
    "    try:\n",
    "        df = pd.read_csv('Path Of Your Data File', encoding=encoding)\n",
    "        # If reading succeeds, break out of the loop\n",
    "        break\n",
    "    except UnicodeDecodeError:\n",
    "        print(f\"Failed to read with encoding {encoding}\")\n",
    "\n",
    "# Now df contains your DataFrame with the successfully decoded data\n",
    "\n",
    "# Display a few values from the original data\n",
    "print(\"Original Data Sample:\")\n",
    "print(df.head())\n"
   ]
  },
  {
   "cell_type": "code",
   "execution_count": null,
   "id": "fc4df089",
   "metadata": {},
   "outputs": [],
   "source": [
    "import pandas as pd\n",
    "import re\n",
    "\n",
    "# Specify the column containing text data\n",
    "message_column = 'Column Name Contain Text Data'\n",
    "\n",
    "# Check and convert non-string elements to strings\n",
    "df[message_column] = df[message_column].astype(str)\n",
    "\n",
    "# Lowercasing and removing special characters\n",
    "df[message_column] = df[message_column].str.lower()\n",
    "df[message_column] = df[message_column].apply(lambda x: re.sub(r'[^a-zA-Z0-9\\s]', '', x))\n"
   ]
  },
  {
   "cell_type": "code",
   "execution_count": null,
   "id": "aef801cc",
   "metadata": {},
   "outputs": [],
   "source": [
    "# Display a few values after preprocessing\n",
    "print(\"\\nData After Preprocessing:\")\n",
    "print(df.head())\n"
   ]
  },
  {
   "cell_type": "code",
   "execution_count": null,
   "id": "b491d9c4",
   "metadata": {},
   "outputs": [],
   "source": [
    "# Initialize the LabelEncoder\n",
    "label_encoder = LabelEncoder()\n",
    "\n",
    "# Encode the target variable y\n",
    "y_encoded = label_encoder.fit_transform(df['Column Name Contain Sentiment'])  # Replace with the actual column name\n",
    "# Display a few values of y (encoded)\n",
    "print(\"\\nEncoded Target Variable (y):\")\n",
    "print(y_encoded[:5])\n"
   ]
  },
  {
   "cell_type": "code",
   "execution_count": null,
   "id": "496427b2",
   "metadata": {},
   "outputs": [],
   "source": [
    "# Create a TF-IDF vectorizer\n",
    "tfidf_vectorizer = TfidfVectorizer(max_features=1000)  # Adjust max_features as needed\n",
    "\n",
    "# Fit and transform the messages\n",
    "X = tfidf_vectorizer.fit_transform(df[message_column])\n",
    "\n",
    "# Display a few values of X\n",
    "print(\"\\nTF-IDF Features (X):\")\n",
    "print(X[:5])\n"
   ]
  },
  {
   "cell_type": "code",
   "execution_count": null,
   "id": "896eab76",
   "metadata": {},
   "outputs": [],
   "source": [
    "# Split the data into training and testing sets\n",
    "X_train, X_test, y_train, y_test = train_test_split(X, y_encoded, test_size=0.2, random_state=42)\n",
    "# Display a few values of X_train\n",
    "print(\"\\nFew Values Of X_train :\")\n",
    "print(X_train[:5])\n",
    "# Display a few values of X_test\n",
    "print(\"\\nFew Values Of X_test :\")\n",
    "print(X_test[:5])\n",
    "# Display a few values of y_train\n",
    "print(\"\\nFew Values Of y_train :\")\n",
    "print(y_train[:5])\n",
    "# Display a few values of y_test\n",
    "print(\"\\nFew Values Of y_test:\")\n",
    "print(y_test[:5])\n"
   ]
  },
  {
   "cell_type": "code",
   "execution_count": null,
   "id": "738801c8",
   "metadata": {},
   "outputs": [],
   "source": [
    "# Create and train the logistic regression model\n",
    "lr_model = LogisticRegression(max_iter=1000, random_state=42)\n",
    "lr_model.fit(X_train, y_train)\n"
   ]
  },
  {
   "cell_type": "code",
   "execution_count": null,
   "id": "2ee682ff",
   "metadata": {},
   "outputs": [],
   "source": [
    "from sklearn.metrics import accuracy_score, classification_report\n",
    "\n",
    "# Make predictions on the test set\n",
    "y_pred = lr_model.predict(X_test)\n",
    "\n",
    "# Calculate accuracy\n",
    "accuracy = accuracy_score(y_test, y_pred)\n",
    "print(f'Accuracy: {accuracy}')\n",
    "\n",
    "# Print classification report\n",
    "report = classification_report(y_test, y_pred)\n",
    "print(\"\\nClassification Report:\")\n",
    "print(report)\n"
   ]
  }
 ],
 "metadata": {
  "kernelspec": {
   "display_name": "Python 3 (ipykernel)",
   "language": "python",
   "name": "python3"
  },
  "language_info": {
   "codemirror_mode": {
    "name": "ipython",
    "version": 3
   },
   "file_extension": ".py",
   "mimetype": "text/x-python",
   "name": "python",
   "nbconvert_exporter": "python",
   "pygments_lexer": "ipython3",
   "version": "3.10.9"
  }
 },
 "nbformat": 4,
 "nbformat_minor": 5
}
